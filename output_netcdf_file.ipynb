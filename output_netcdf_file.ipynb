{
 "cells": [
  {
   "cell_type": "markdown",
   "metadata": {},
   "source": [
    "# Reading and writing out a netcdf file\n",
    "\n",
    "*Outputs one timestep from year 1000 in the CESM Large Ensemble preindustrial control surface temperature after converting to Celsius.*\n"
   ]
  },
  {
   "cell_type": "code",
   "execution_count": 1,
   "metadata": {},
   "outputs": [],
   "source": [
    "import numpy as np\n",
    "import xarray as xr"
   ]
  },
  {
   "cell_type": "markdown",
   "metadata": {},
   "source": [
    "### *Load in original file.*\n",
    "*We are going to use a random 100-year TS file from the Large Ensemble preindustrial control simulation*"
   ]
  },
  {
   "cell_type": "code",
   "execution_count": 17,
   "metadata": {},
   "outputs": [
    {
     "data": {
      "text/plain": [
       "<xarray.Dataset>\n",
       "Dimensions:       (ilev: 31, lat: 192, lev: 30, lon: 288, nbnd: 2, slat: 191, slon: 288, time: 1200)\n",
       "Coordinates:\n",
       "  * ilev          (ilev) float64 2.255 5.032 10.16 18.56 ... 967.5 985.1 1e+03\n",
       "  * lat           (lat) float64 -90.0 -89.06 -88.12 -87.17 ... 88.12 89.06 90.0\n",
       "  * lev           (lev) float64 3.643 7.595 14.36 24.61 ... 957.5 976.3 992.6\n",
       "  * lon           (lon) float64 0.0 1.25 2.5 3.75 ... 355.0 356.2 357.5 358.8\n",
       "  * slat          (slat) float64 -89.53 -88.59 -87.64 ... 87.64 88.59 89.53\n",
       "  * slon          (slon) float64 -0.625 0.625 1.875 3.125 ... 355.6 356.9 358.1\n",
       "  * time          (time) object 1000-02-01 00:00:00 ... 1100-01-01 00:00:00\n",
       "Dimensions without coordinates: nbnd\n",
       "Data variables:\n",
       "    P0            float64 ...\n",
       "    TS            (time, lat, lon) float32 ...\n",
       "    ch4vmr        (time) float64 ...\n",
       "    co2vmr        (time) float64 ...\n",
       "    date          (time) int32 ...\n",
       "    date_written  (time) |S8 ...\n",
       "    datesec       (time) int32 ...\n",
       "    f11vmr        (time) float64 ...\n",
       "    f12vmr        (time) float64 ...\n",
       "    gw            (lat) float64 ...\n",
       "    hyai          (ilev) float64 ...\n",
       "    hyam          (lev) float64 ...\n",
       "    hybi          (ilev) float64 ...\n",
       "    hybm          (lev) float64 ...\n",
       "    mdt           int32 ...\n",
       "    n2ovmr        (time) float64 ...\n",
       "    nbdate        int32 ...\n",
       "    nbsec         int32 ...\n",
       "    ndbase        int32 ...\n",
       "    ndcur         (time) int32 ...\n",
       "    nlon          (lat) int32 ...\n",
       "    nsbase        int32 ...\n",
       "    nscur         (time) int32 ...\n",
       "    nsteph        (time) int32 ...\n",
       "    ntrk          int32 ...\n",
       "    ntrm          int32 ...\n",
       "    ntrn          int32 ...\n",
       "    sol_tsi       (time) float64 ...\n",
       "    time_bnds     (time, nbnd) object ...\n",
       "    time_written  (time) |S8 ...\n",
       "    w_stag        (slat) float64 ...\n",
       "    wnummax       (lat) int32 ...\n",
       "Attributes:\n",
       "    Conventions:               CF-1.0\n",
       "    source:                    CAM\n",
       "    case:                      b.e11.B1850C5CN.f09_g16.005\n",
       "    title:                     UNSET\n",
       "    logname:                   mai\n",
       "    host:                      ys4831\n",
       "    Version:                   $Name$\n",
       "    revision_Id:               $Id$\n",
       "    initial_file:              /glade/p/cesm/cseg//inputdata/atm/cam/inic/fv/...\n",
       "    topography_file:           /glade/p/cesm/cseg//inputdata/atm/cam/topo/USG...\n",
       "    history:                   Wed Oct  9 16:28:19 2013: /glade/apps/opt/nco/...\n",
       "    NCO:                       4.3.4\n",
       "    nco_openmp_thread_number:  1"
      ]
     },
     "execution_count": 17,
     "metadata": {},
     "output_type": "execute_result"
    }
   ],
   "source": [
    "path = '/glade/u/home/eleanorm/analysis/Kay_lab_python_code/data/'\n",
    "origfile = 'b.e11.B1850C5CN.f09_g16.005.cam.h0.TS.100001-109912.nc'\n",
    "ds=xr.open_dataset(path+origfile)\n",
    "ds # uncomment to look at the dataset/file information"
   ]
  },
  {
   "cell_type": "markdown",
   "metadata": {},
   "source": [
    "### *load in variable want to work on*\n",
    "*In this case, TS. For the same of quickly doing this, let's only open one timestep.*"
   ]
  },
  {
   "cell_type": "code",
   "execution_count": 72,
   "metadata": {},
   "outputs": [
    {
     "data": {
      "text/plain": [
       "<xarray.DataArray 'TS' (lat: 192, lon: 288)>\n",
       "array([[240.24586, 241.01822, 241.05412, ..., 240.9693 , 240.22437, 241.09961],\n",
       "       [241.06042, 241.13762, 241.49753, ..., 240.8288 , 240.95476, 240.88046],\n",
       "       [242.17682, 241.06738, 241.38145, ..., 241.97614, 241.96349, 241.47302],\n",
       "       ...,\n",
       "       [235.97325, 236.0372 , 236.10123, ..., 235.82266, 235.87064, 235.91768],\n",
       "       [235.80753, 235.83607, 235.86568, ..., 235.72218, 235.7482 , 235.77788],\n",
       "       [235.35458, 235.35654, 235.35832, ..., 235.34749, 235.35008, 235.35245]],\n",
       "      dtype=float32)\n",
       "Coordinates:\n",
       "  * lat      (lat) float64 -90.0 -89.06 -88.12 -87.17 ... 87.17 88.12 89.06 90.0\n",
       "  * lon      (lon) float64 0.0 1.25 2.5 3.75 5.0 ... 355.0 356.2 357.5 358.8\n",
       "    time     object 1000-02-01 00:00:00\n",
       "Attributes:\n",
       "    units:         K\n",
       "    long_name:     Surface temperature (radiative)\n",
       "    cell_methods:  time: mean"
      ]
     },
     "execution_count": 72,
     "metadata": {},
     "output_type": "execute_result"
    }
   ],
   "source": [
    "#ts = ds.TS.sel(time='1000-02-01').squeeze()\n",
    "# or \n",
    "ts = ds['TS'].sel(time='1000-02-01').squeeze() # grab first timestep\n",
    "# add squeeze to get rid of singleton time dimension\n",
    "\n",
    "ts # uncomment to look at what this dataset look like"
   ]
  },
  {
   "cell_type": "markdown",
   "metadata": {},
   "source": [
    "### *perform some analysis: convert kelvin to celsius*"
   ]
  },
  {
   "cell_type": "code",
   "execution_count": 9,
   "metadata": {},
   "outputs": [
    {
     "data": {
      "text/plain": [
       "<xarray.DataArray 'TS' (lat: 192, lon: 288)>\n",
       "array([[-32.754135, -31.981781, -31.945877, ..., -32.0307  , -32.775635,\n",
       "        -31.90039 ],\n",
       "       [-31.939575, -31.862381, -31.502472, ..., -32.171204, -32.045242,\n",
       "        -32.119537],\n",
       "       [-30.823181, -31.932617, -31.618546, ..., -31.023865, -31.036514,\n",
       "        -31.526978],\n",
       "       ...,\n",
       "       [-37.02675 , -36.9628  , -36.898773, ..., -37.177338, -37.129364,\n",
       "        -37.08232 ],\n",
       "       [-37.192474, -37.163925, -37.134323, ..., -37.277817, -37.2518  ,\n",
       "        -37.222122],\n",
       "       [-37.645416, -37.643463, -37.641678, ..., -37.65251 , -37.649918,\n",
       "        -37.647552]], dtype=float32)\n",
       "Coordinates:\n",
       "  * lat      (lat) float64 -90.0 -89.06 -88.12 -87.17 ... 87.17 88.12 89.06 90.0\n",
       "  * lon      (lon) float64 0.0 1.25 2.5 3.75 5.0 ... 355.0 356.2 357.5 358.8\n",
       "    time     object 1000-02-01 00:00:00"
      ]
     },
     "execution_count": 9,
     "metadata": {},
     "output_type": "execute_result"
    }
   ],
   "source": [
    "ts = ts-273.0\n",
    "ts # conversion to celsius successful"
   ]
  },
  {
   "cell_type": "markdown",
   "metadata": {},
   "source": [
    "### *Filename string parsing*\n",
    "*Change filename of original file*"
   ]
  },
  {
   "cell_type": "code",
   "execution_count": 11,
   "metadata": {},
   "outputs": [
    {
     "name": "stdout",
     "output_type": "stream",
     "text": [
      "/glade/u/home/eleanorm/analysis/Kay_lab_python_code/data/b.e11.B1850C5CN.f09_g16.005.cam.h0.TS.1000-02-01.celsius.nc\n"
     ]
    }
   ],
   "source": [
    "orig_file_strs = origfile.split(\".\")\n",
    "orig_file_strs[-2] =\"1000-02-01.celsius\" # change time & add celsius to right before \".nc\"\n",
    "sep = \".\" \n",
    "new_filename = sep.join(orig_file_strs)\n",
    "new_filename"
   ]
  },
  {
   "cell_type": "markdown",
   "metadata": {},
   "source": [
    "### *Outputting the xarray dataset*\n",
    "*Must first convert to dataset so that coordinates are saved.*"
   ]
  },
  {
   "cell_type": "code",
   "execution_count": 16,
   "metadata": {},
   "outputs": [
    {
     "data": {
      "text/plain": [
       "<xarray.Dataset>\n",
       "Dimensions:     (lat: 192, lon: 288)\n",
       "Coordinates:\n",
       "  * lat         (lat) float64 -90.0 -89.06 -88.12 -87.17 ... 88.12 89.06 90.0\n",
       "  * lon         (lon) float64 0.0 1.25 2.5 3.75 5.0 ... 355.0 356.2 357.5 358.8\n",
       "    time        object 1000-02-01 00:00:00\n",
       "Data variables:\n",
       "    TS_celsius  (lat, lon) float32 -32.754135 -31.981781 ... -37.647552"
      ]
     },
     "execution_count": 16,
     "metadata": {},
     "output_type": "execute_result"
    }
   ],
   "source": [
    "out_ds=ts.to_dataset(name='TS_celsius') # TS_celsius is the name of the variable to save to the file.\n",
    "out_ds # see what this new dataset looks like. Does it contain all the coordinates & attributes we want?"
   ]
  },
  {
   "cell_type": "markdown",
   "metadata": {},
   "source": [
    "*If happy with the coordinates, now may save directly to file.*"
   ]
  },
  {
   "cell_type": "code",
   "execution_count": 15,
   "metadata": {},
   "outputs": [],
   "source": [
    "out_ds.to_netcdf(path+new_filename)"
   ]
  }
 ],
 "metadata": {
  "kernelspec": {
   "display_name": "Python [conda env:analysis]",
   "language": "python",
   "name": "conda-env-analysis-py"
  },
  "language_info": {
   "codemirror_mode": {
    "name": "ipython",
    "version": 3
   },
   "file_extension": ".py",
   "mimetype": "text/x-python",
   "name": "python",
   "nbconvert_exporter": "python",
   "pygments_lexer": "ipython3",
   "version": "3.7.3"
  }
 },
 "nbformat": 4,
 "nbformat_minor": 2
}
